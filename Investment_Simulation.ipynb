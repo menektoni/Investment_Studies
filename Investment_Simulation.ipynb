{
 "cells": [
  {
   "cell_type": "markdown",
   "id": "0c410b97",
   "metadata": {},
   "source": [
    "# Investment Simulation\n",
    "\n",
    "### Main Question: \n",
    "\n",
    "Differentiate between non changing initial investment and rebalancing for an \"x\" time."
   ]
  },
  {
   "cell_type": "code",
   "execution_count": 1,
   "id": "af423c97",
   "metadata": {},
   "outputs": [],
   "source": [
    "import numpy as np\n",
    "import pandas as pd\n",
    "import matplotlib.pyplot as plt\n",
    "import yfinance as yf"
   ]
  },
  {
   "cell_type": "markdown",
   "id": "5d88c0da",
   "metadata": {},
   "source": [
    "### Exploring a way to find al the tickers in order to select some of them for the simulation.\n",
    "\n",
    "It's a preety large list. So we are going to use some webscrapping."
   ]
  },
  {
   "cell_type": "code",
   "execution_count": 7,
   "id": "8f00061f",
   "metadata": {},
   "outputs": [],
   "source": [
    "import requests\n",
    "from urllib.request import urlopen\n",
    "from bs4 import BeautifulSoup as bs\n",
    "import re"
   ]
  },
  {
   "cell_type": "code",
   "execution_count": 25,
   "id": "230bd475",
   "metadata": {},
   "outputs": [],
   "source": [
    "def parse_url(url):\n",
    "    page = requests.get(url).text\n",
    "    return bs(page, features = 'html.parser')"
   ]
  },
  {
   "cell_type": "code",
   "execution_count": 27,
   "id": "24b6c95c",
   "metadata": {},
   "outputs": [],
   "source": [
    "soup = parse_url('https://stockanalysis.com/stocks/')"
   ]
  },
  {
   "cell_type": "code",
   "execution_count": 45,
   "id": "aa62998d",
   "metadata": {},
   "outputs": [],
   "source": [
    "ticker_list = []\n",
    "for item in soup.find(class_='no-spacing'):\n",
    "    ticker_list.append(item.text.split('-')[0])\n",
    "    \n",
    "# We already have all the tickers existing."
   ]
  },
  {
   "cell_type": "markdown",
   "id": "30a437d5",
   "metadata": {},
   "source": [
    "## Starting the simulation"
   ]
  },
  {
   "cell_type": "markdown",
   "id": "7576ce6a",
   "metadata": {},
   "source": [
    "First of all we are going to randomly pick 40 values of the list.\n",
    "And check if they are good companies. We are doing this checking the market cap (just a salomonic criterion) and looking if they have lasted 10 years at least.\n"
   ]
  },
  {
   "cell_type": "code",
   "execution_count": null,
   "id": "fcfced5d",
   "metadata": {},
   "outputs": [],
   "source": []
  }
 ],
 "metadata": {
  "kernelspec": {
   "display_name": "Python 3",
   "language": "python",
   "name": "python3"
  },
  "language_info": {
   "codemirror_mode": {
    "name": "ipython",
    "version": 3
   },
   "file_extension": ".py",
   "mimetype": "text/x-python",
   "name": "python",
   "nbconvert_exporter": "python",
   "pygments_lexer": "ipython3",
   "version": "3.8.2"
  }
 },
 "nbformat": 4,
 "nbformat_minor": 5
}
